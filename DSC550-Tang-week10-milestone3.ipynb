{
 "cells": [
  {
   "cell_type": "markdown",
   "id": "f04f1e9a",
   "metadata": {},
   "source": [
    "### DSC550\n",
    "##### week8 project milestone 3, Author Xin Tang 5/17/24\n",
    "\n",
    "Requirement:\n",
    "1. select, build and evaluate the model\n",
    "2. train and test a model\n",
    "3. join milestone 1 and 2 and 3 together"
   ]
  },
  {
   "cell_type": "code",
   "execution_count": null,
   "id": "d48a1007",
   "metadata": {},
   "outputs": [],
   "source": [
    "# Load packages first\n",
    "import numpy as np \n",
    "import pandas as pd\n",
    "import matplotlib.pyplot as plt\n",
    "import seaborn as sns\n",
    "import "
   ]
  }
 ],
 "metadata": {
  "kernelspec": {
   "display_name": "Python 3 (ipykernel)",
   "language": "python",
   "name": "python3"
  },
  "language_info": {
   "codemirror_mode": {
    "name": "ipython",
    "version": 3
   },
   "file_extension": ".py",
   "mimetype": "text/x-python",
   "name": "python",
   "nbconvert_exporter": "python",
   "pygments_lexer": "ipython3",
   "version": "3.11.4"
  }
 },
 "nbformat": 4,
 "nbformat_minor": 5
}
