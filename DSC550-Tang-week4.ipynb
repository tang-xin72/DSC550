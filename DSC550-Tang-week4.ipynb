{
 "cells": [
  {
   "cell_type": "markdown",
   "id": "2e12bb00",
   "metadata": {},
   "source": [
    "#### DSC550\n",
    "###### Week 4 assigment, Author: Xin Tang,  4/13/2024"
   ]
  },
  {
   "cell_type": "code",
   "execution_count": 1,
   "id": "05fa7d46",
   "metadata": {},
   "outputs": [],
   "source": [
    "# load the dataset as panda data frame\n",
    "# 1. import package first\n",
    "\n",
    "import pandas as pd\n",
    "import numpy as np\n",
    "\n",
    "\n",
    "#2. load the dataset and do basic check of the data frame\n",
    "df = pd.read_csv('auto-mpg.csv')"
   ]
  },
  {
   "cell_type": "code",
   "execution_count": 2,
   "id": "577cbcb4",
   "metadata": {},
   "outputs": [
    {
     "data": {
      "text/html": [
       "<div>\n",
       "<style scoped>\n",
       "    .dataframe tbody tr th:only-of-type {\n",
       "        vertical-align: middle;\n",
       "    }\n",
       "\n",
       "    .dataframe tbody tr th {\n",
       "        vertical-align: top;\n",
       "    }\n",
       "\n",
       "    .dataframe thead th {\n",
       "        text-align: right;\n",
       "    }\n",
       "</style>\n",
       "<table border=\"1\" class=\"dataframe\">\n",
       "  <thead>\n",
       "    <tr style=\"text-align: right;\">\n",
       "      <th></th>\n",
       "      <th>mpg</th>\n",
       "      <th>cylinders</th>\n",
       "      <th>displacement</th>\n",
       "      <th>horsepower</th>\n",
       "      <th>weight</th>\n",
       "      <th>acceleration</th>\n",
       "      <th>model year</th>\n",
       "      <th>origin</th>\n",
       "      <th>car name</th>\n",
       "    </tr>\n",
       "  </thead>\n",
       "  <tbody>\n",
       "    <tr>\n",
       "      <th>0</th>\n",
       "      <td>18.0</td>\n",
       "      <td>8</td>\n",
       "      <td>307.0</td>\n",
       "      <td>130</td>\n",
       "      <td>3504</td>\n",
       "      <td>12.0</td>\n",
       "      <td>70</td>\n",
       "      <td>1</td>\n",
       "      <td>chevrolet chevelle malibu</td>\n",
       "    </tr>\n",
       "    <tr>\n",
       "      <th>1</th>\n",
       "      <td>15.0</td>\n",
       "      <td>8</td>\n",
       "      <td>350.0</td>\n",
       "      <td>165</td>\n",
       "      <td>3693</td>\n",
       "      <td>11.5</td>\n",
       "      <td>70</td>\n",
       "      <td>1</td>\n",
       "      <td>buick skylark 320</td>\n",
       "    </tr>\n",
       "    <tr>\n",
       "      <th>2</th>\n",
       "      <td>18.0</td>\n",
       "      <td>8</td>\n",
       "      <td>318.0</td>\n",
       "      <td>150</td>\n",
       "      <td>3436</td>\n",
       "      <td>11.0</td>\n",
       "      <td>70</td>\n",
       "      <td>1</td>\n",
       "      <td>plymouth satellite</td>\n",
       "    </tr>\n",
       "    <tr>\n",
       "      <th>3</th>\n",
       "      <td>16.0</td>\n",
       "      <td>8</td>\n",
       "      <td>304.0</td>\n",
       "      <td>150</td>\n",
       "      <td>3433</td>\n",
       "      <td>12.0</td>\n",
       "      <td>70</td>\n",
       "      <td>1</td>\n",
       "      <td>amc rebel sst</td>\n",
       "    </tr>\n",
       "    <tr>\n",
       "      <th>4</th>\n",
       "      <td>17.0</td>\n",
       "      <td>8</td>\n",
       "      <td>302.0</td>\n",
       "      <td>140</td>\n",
       "      <td>3449</td>\n",
       "      <td>10.5</td>\n",
       "      <td>70</td>\n",
       "      <td>1</td>\n",
       "      <td>ford torino</td>\n",
       "    </tr>\n",
       "  </tbody>\n",
       "</table>\n",
       "</div>"
      ],
      "text/plain": [
       "    mpg  cylinders  displacement horsepower  weight  acceleration  model year  \\\n",
       "0  18.0          8         307.0        130    3504          12.0          70   \n",
       "1  15.0          8         350.0        165    3693          11.5          70   \n",
       "2  18.0          8         318.0        150    3436          11.0          70   \n",
       "3  16.0          8         304.0        150    3433          12.0          70   \n",
       "4  17.0          8         302.0        140    3449          10.5          70   \n",
       "\n",
       "   origin                   car name  \n",
       "0       1  chevrolet chevelle malibu  \n",
       "1       1          buick skylark 320  \n",
       "2       1         plymouth satellite  \n",
       "3       1              amc rebel sst  \n",
       "4       1                ford torino  "
      ]
     },
     "execution_count": 2,
     "metadata": {},
     "output_type": "execute_result"
    }
   ],
   "source": [
    "df.head(5)"
   ]
  },
  {
   "cell_type": "code",
   "execution_count": 2,
   "id": "3eb183fa",
   "metadata": {},
   "outputs": [
    {
     "data": {
      "text/plain": [
       "(398, 9)"
      ]
     },
     "execution_count": 2,
     "metadata": {},
     "output_type": "execute_result"
    }
   ],
   "source": [
    "#check dimension\n",
    "df.shape"
   ]
  },
  {
   "cell_type": "code",
   "execution_count": 14,
   "id": "5f9bbfca",
   "metadata": {},
   "outputs": [
    {
     "data": {
      "text/plain": [
       "mpg             0\n",
       "cylinders       0\n",
       "displacement    0\n",
       "horsepower      0\n",
       "weight          0\n",
       "acceleration    0\n",
       "model year      0\n",
       "origin          0\n",
       "car name        0\n",
       "dtype: int64"
      ]
     },
     "execution_count": 14,
     "metadata": {},
     "output_type": "execute_result"
    }
   ],
   "source": [
    "#check any NA value\n",
    "df.isna().sum()"
   ]
  },
  {
   "cell_type": "markdown",
   "id": "2d0d2833",
   "metadata": {},
   "source": [
    "###### prep the data"
   ]
  },
  {
   "cell_type": "code",
   "execution_count": 3,
   "id": "a975591c",
   "metadata": {},
   "outputs": [],
   "source": [
    "# 1. Remove the car name column since it is not relevant\n",
    "dfnew = df.drop('car name', axis = 1)"
   ]
  },
  {
   "cell_type": "code",
   "execution_count": 27,
   "id": "fa3f7095",
   "metadata": {},
   "outputs": [
    {
     "data": {
      "text/plain": [
       "mpg             float64\n",
       "cylinders         int64\n",
       "displacement    float64\n",
       "horsepower       object\n",
       "weight            int64\n",
       "acceleration    float64\n",
       "model year        int64\n",
       "origin            int64\n",
       "dtype: object"
      ]
     },
     "execution_count": 27,
     "metadata": {},
     "output_type": "execute_result"
    }
   ],
   "source": [
    "#check data type \n",
    "dfnew.dtypes"
   ]
  },
  {
   "cell_type": "code",
   "execution_count": 4,
   "id": "c47fa801",
   "metadata": {},
   "outputs": [
    {
     "name": "stdout",
     "output_type": "stream",
     "text": [
      " horse power mean is: 104.46938775510205\n"
     ]
    }
   ],
   "source": [
    "# the horse power is not a number, it maybe entered like that, or, it is due to one entry is entered as '?'\n",
    "# clean up the column and replace string with mean\n",
    "\n",
    "#first, replace ? with NA\n",
    "dfnew['horsepower'] = dfnew['horsepower'].replace('?', np.nan)\n",
    "\n",
    "# next convert the entry to float\n",
    "dfnew['horsepower'] = dfnew['horsepower'].astype(float)\n",
    "\n",
    "# calculate the mean\n",
    "mean_power = dfnew['horsepower'].mean()\n",
    "print(' horse power mean is:', mean_power)\n",
    "dfnew['horsepower'].fillna(mean_power, inplace=True)\n",
    "\n",
    "# last convert it back to 'int'\n",
    "dfnew['horsepower'] = dfnew['horsepower'].astype(int)"
   ]
  },
  {
   "cell_type": "code",
   "execution_count": 5,
   "id": "93f9fb51",
   "metadata": {},
   "outputs": [],
   "source": [
    "# validate the '?' has been replaced\n",
    "dfnew[30:35]\n",
    "dfcopy = dfnew\n",
    "#dfcopy[1:3]"
   ]
  },
  {
   "cell_type": "code",
   "execution_count": 7,
   "id": "60a70880",
   "metadata": {},
   "outputs": [
    {
     "data": {
      "text/html": [
       "<div>\n",
       "<style scoped>\n",
       "    .dataframe tbody tr th:only-of-type {\n",
       "        vertical-align: middle;\n",
       "    }\n",
       "\n",
       "    .dataframe tbody tr th {\n",
       "        vertical-align: top;\n",
       "    }\n",
       "\n",
       "    .dataframe thead th {\n",
       "        text-align: right;\n",
       "    }\n",
       "</style>\n",
       "<table border=\"1\" class=\"dataframe\">\n",
       "  <thead>\n",
       "    <tr style=\"text-align: right;\">\n",
       "      <th></th>\n",
       "      <th>mpg</th>\n",
       "      <th>cylinders</th>\n",
       "      <th>displacement</th>\n",
       "      <th>horsepower</th>\n",
       "      <th>weight</th>\n",
       "      <th>acceleration</th>\n",
       "      <th>model year</th>\n",
       "      <th>origin</th>\n",
       "    </tr>\n",
       "  </thead>\n",
       "  <tbody>\n",
       "    <tr>\n",
       "      <th>15</th>\n",
       "      <td>22.0</td>\n",
       "      <td>6</td>\n",
       "      <td>198.0</td>\n",
       "      <td>95</td>\n",
       "      <td>2833</td>\n",
       "      <td>15.5</td>\n",
       "      <td>70</td>\n",
       "      <td>USA</td>\n",
       "    </tr>\n",
       "    <tr>\n",
       "      <th>16</th>\n",
       "      <td>18.0</td>\n",
       "      <td>6</td>\n",
       "      <td>199.0</td>\n",
       "      <td>97</td>\n",
       "      <td>2774</td>\n",
       "      <td>15.5</td>\n",
       "      <td>70</td>\n",
       "      <td>USA</td>\n",
       "    </tr>\n",
       "    <tr>\n",
       "      <th>17</th>\n",
       "      <td>21.0</td>\n",
       "      <td>6</td>\n",
       "      <td>200.0</td>\n",
       "      <td>85</td>\n",
       "      <td>2587</td>\n",
       "      <td>16.0</td>\n",
       "      <td>70</td>\n",
       "      <td>USA</td>\n",
       "    </tr>\n",
       "    <tr>\n",
       "      <th>18</th>\n",
       "      <td>27.0</td>\n",
       "      <td>4</td>\n",
       "      <td>97.0</td>\n",
       "      <td>88</td>\n",
       "      <td>2130</td>\n",
       "      <td>14.5</td>\n",
       "      <td>70</td>\n",
       "      <td>Japan</td>\n",
       "    </tr>\n",
       "    <tr>\n",
       "      <th>19</th>\n",
       "      <td>26.0</td>\n",
       "      <td>4</td>\n",
       "      <td>97.0</td>\n",
       "      <td>46</td>\n",
       "      <td>1835</td>\n",
       "      <td>20.5</td>\n",
       "      <td>70</td>\n",
       "      <td>Europe</td>\n",
       "    </tr>\n",
       "  </tbody>\n",
       "</table>\n",
       "</div>"
      ],
      "text/plain": [
       "     mpg  cylinders  displacement  horsepower  weight  acceleration  \\\n",
       "15  22.0          6         198.0          95    2833          15.5   \n",
       "16  18.0          6         199.0          97    2774          15.5   \n",
       "17  21.0          6         200.0          85    2587          16.0   \n",
       "18  27.0          4          97.0          88    2130          14.5   \n",
       "19  26.0          4          97.0          46    1835          20.5   \n",
       "\n",
       "    model year  origin  \n",
       "15          70     USA  \n",
       "16          70     USA  \n",
       "17          70     USA  \n",
       "18          70   Japan  \n",
       "19          70  Europe  "
      ]
     },
     "execution_count": 7,
     "metadata": {},
     "output_type": "execute_result"
    }
   ],
   "source": [
    "#create dummy variable value for the origin\n",
    "dfnew['origin'] = dfnew['origin'].map({1: 'USA', 2: 'Europe', 3: 'Japan'})\n",
    "dfnew[15:20]"
   ]
  },
  {
   "cell_type": "code",
   "execution_count": 6,
   "id": "24e1c340",
   "metadata": {},
   "outputs": [
    {
     "name": "stdout",
     "output_type": "stream",
     "text": [
      "                   mpg  cylinders  displacement  horsepower    weight  \\\n",
      "mpg           1.000000  -0.775396     -0.804203   -0.771543 -0.831741   \n",
      "cylinders    -0.775396   1.000000      0.950721    0.839061  0.896017   \n",
      "displacement -0.804203   0.950721      1.000000    0.893760  0.932824   \n",
      "horsepower   -0.771543   0.839061      0.893760    1.000000  0.860676   \n",
      "weight       -0.831741   0.896017      0.932824    0.860676  1.000000   \n",
      "acceleration  0.420289  -0.505419     -0.543684   -0.684376 -0.417457   \n",
      "model year    0.579267  -0.348746     -0.370164   -0.411750 -0.306564   \n",
      "\n",
      "              acceleration  model year  \n",
      "mpg               0.420289    0.579267  \n",
      "cylinders        -0.505419   -0.348746  \n",
      "displacement     -0.543684   -0.370164  \n",
      "horsepower       -0.684376   -0.411750  \n",
      "weight           -0.417457   -0.306564  \n",
      "acceleration      1.000000    0.288137  \n",
      "model year        0.288137    1.000000  \n"
     ]
    },
    {
     "name": "stderr",
     "output_type": "stream",
     "text": [
      "C:\\Users\\Daisy\\AppData\\Local\\Temp\\ipykernel_15148\\2119730741.py:5: FutureWarning: The default value of numeric_only in DataFrame.corr is deprecated. In a future version, it will default to False. Select only valid columns or specify the value of numeric_only to silence this warning.\n",
      "  corr = dfnew.corr()\n"
     ]
    }
   ],
   "source": [
    "# Create a correlation coefficient matrix and/or visualization\n",
    "#from sklearn.preprocessing import StandardScaler\n",
    "import matplotlib.pyplot as plt\n",
    "\n",
    "corr = dfnew.corr()\n",
    "print(corr)"
   ]
  },
  {
   "cell_type": "code",
   "execution_count": 26,
   "id": "451f5567",
   "metadata": {},
   "outputs": [
    {
     "data": {
      "image/png": "[encoded data removed]",
      "text/plain": [
       "<Figure size 640x640 with 2 Axes>"
      ]
     },
     "metadata": {},
     "output_type": "display_data"
    }
   ],
   "source": [
    "#plot the correlation heatmap\n",
    "plt.figure(num=None, figsize=(8, 8), dpi=80, facecolor='w', edgecolor='k')\n",
    "corrMat = plt.matshow(corr, fignum = 1)\n",
    "plt.xticks(range(len(corr.columns)), corr.columns, rotation=90)\n",
    "plt.yticks(range(len(corr.columns)), corr.columns)\n",
    "plt.colorbar(corrMat)\n",
    "plt.title(f'Correlation Matrix for auto-mpg', fontsize=15)\n",
    "plt.show()"
   ]
  },
  {
   "cell_type": "markdown",
   "id": "2838c62a",
   "metadata": {},
   "source": [
    "###### Summary:\n",
    "from the matrix and chart, it is clear that for mpg, the strong negatively correlated factors are cylinders (-0.775); displacement(-0.804), horsepower(-0.772) and weight(-0.832). Among them, horsepower, cylinder and displacement are closely related. on the positive side, acceleration and model year are positively influence mpg, but not as strong as engine related factors."
   ]
  },
  {
   "cell_type": "code",
   "execution_count": 17,
   "id": "dd601eb1",
   "metadata": {},
   "outputs": [
    {
     "data": {
      "image/png": "[encoded data removed]",
      "text/plain": [
       "<Figure size 640x480 with 1 Axes>"
      ]
     },
     "metadata": {},
     "output_type": "display_data"
    }
   ],
   "source": [
    "# Plot mpg versus weight using scatter chart\n",
    "plt.scatter(dfnew['mpg'], dfnew['weight'], c =\"blue\")\n",
    "plt.show()"
   ]
  },
  {
   "cell_type": "markdown",
   "id": "baf16be0",
   "metadata": {},
   "source": [
    "###### Summary:\n",
    "from chart, it is clear that mpg is strong negatively correlated with mpg. the dot is in a tight ellipse shape and trending down. "
   ]
  },
  {
   "cell_type": "code",
   "execution_count": 6,
   "id": "34af018b",
   "metadata": {},
   "outputs": [
    {
     "data": {
      "text/html": [
       "<div>\n",
       "<style scoped>\n",
       "    .dataframe tbody tr th:only-of-type {\n",
       "        vertical-align: middle;\n",
       "    }\n",
       "\n",
       "    .dataframe tbody tr th {\n",
       "        vertical-align: top;\n",
       "    }\n",
       "\n",
       "    .dataframe thead th {\n",
       "        text-align: right;\n",
       "    }\n",
       "</style>\n",
       "<table border=\"1\" class=\"dataframe\">\n",
       "  <thead>\n",
       "    <tr style=\"text-align: right;\">\n",
       "      <th></th>\n",
       "      <th>mpg</th>\n",
       "      <th>cylinders</th>\n",
       "      <th>displacement</th>\n",
       "      <th>horsepower</th>\n",
       "      <th>weight</th>\n",
       "      <th>acceleration</th>\n",
       "      <th>model year</th>\n",
       "      <th>origin</th>\n",
       "    </tr>\n",
       "  </thead>\n",
       "  <tbody>\n",
       "    <tr>\n",
       "      <th>1</th>\n",
       "      <td>15.0</td>\n",
       "      <td>8</td>\n",
       "      <td>350.0</td>\n",
       "      <td>165</td>\n",
       "      <td>3693</td>\n",
       "      <td>11.5</td>\n",
       "      <td>70</td>\n",
       "      <td>1</td>\n",
       "    </tr>\n",
       "    <tr>\n",
       "      <th>2</th>\n",
       "      <td>18.0</td>\n",
       "      <td>8</td>\n",
       "      <td>318.0</td>\n",
       "      <td>150</td>\n",
       "      <td>3436</td>\n",
       "      <td>11.0</td>\n",
       "      <td>70</td>\n",
       "      <td>1</td>\n",
       "    </tr>\n",
       "    <tr>\n",
       "      <th>3</th>\n",
       "      <td>16.0</td>\n",
       "      <td>8</td>\n",
       "      <td>304.0</td>\n",
       "      <td>150</td>\n",
       "      <td>3433</td>\n",
       "      <td>12.0</td>\n",
       "      <td>70</td>\n",
       "      <td>1</td>\n",
       "    </tr>\n",
       "    <tr>\n",
       "      <th>4</th>\n",
       "      <td>17.0</td>\n",
       "      <td>8</td>\n",
       "      <td>302.0</td>\n",
       "      <td>140</td>\n",
       "      <td>3449</td>\n",
       "      <td>10.5</td>\n",
       "      <td>70</td>\n",
       "      <td>1</td>\n",
       "    </tr>\n",
       "    <tr>\n",
       "      <th>5</th>\n",
       "      <td>15.0</td>\n",
       "      <td>8</td>\n",
       "      <td>429.0</td>\n",
       "      <td>198</td>\n",
       "      <td>4341</td>\n",
       "      <td>10.0</td>\n",
       "      <td>70</td>\n",
       "      <td>1</td>\n",
       "    </tr>\n",
       "    <tr>\n",
       "      <th>6</th>\n",
       "      <td>14.0</td>\n",
       "      <td>8</td>\n",
       "      <td>454.0</td>\n",
       "      <td>220</td>\n",
       "      <td>4354</td>\n",
       "      <td>9.0</td>\n",
       "      <td>70</td>\n",
       "      <td>1</td>\n",
       "    </tr>\n",
       "    <tr>\n",
       "      <th>7</th>\n",
       "      <td>14.0</td>\n",
       "      <td>8</td>\n",
       "      <td>440.0</td>\n",
       "      <td>215</td>\n",
       "      <td>4312</td>\n",
       "      <td>8.5</td>\n",
       "      <td>70</td>\n",
       "      <td>1</td>\n",
       "    </tr>\n",
       "    <tr>\n",
       "      <th>8</th>\n",
       "      <td>14.0</td>\n",
       "      <td>8</td>\n",
       "      <td>455.0</td>\n",
       "      <td>225</td>\n",
       "      <td>4425</td>\n",
       "      <td>10.0</td>\n",
       "      <td>70</td>\n",
       "      <td>1</td>\n",
       "    </tr>\n",
       "    <tr>\n",
       "      <th>9</th>\n",
       "      <td>15.0</td>\n",
       "      <td>8</td>\n",
       "      <td>390.0</td>\n",
       "      <td>190</td>\n",
       "      <td>3850</td>\n",
       "      <td>8.5</td>\n",
       "      <td>70</td>\n",
       "      <td>1</td>\n",
       "    </tr>\n",
       "  </tbody>\n",
       "</table>\n",
       "</div>"
      ],
      "text/plain": [
       "    mpg  cylinders  displacement  horsepower  weight  acceleration  \\\n",
       "1  15.0          8         350.0         165    3693          11.5   \n",
       "2  18.0          8         318.0         150    3436          11.0   \n",
       "3  16.0          8         304.0         150    3433          12.0   \n",
       "4  17.0          8         302.0         140    3449          10.5   \n",
       "5  15.0          8         429.0         198    4341          10.0   \n",
       "6  14.0          8         454.0         220    4354           9.0   \n",
       "7  14.0          8         440.0         215    4312           8.5   \n",
       "8  14.0          8         455.0         225    4425          10.0   \n",
       "9  15.0          8         390.0         190    3850           8.5   \n",
       "\n",
       "   model year  origin  \n",
       "1          70       1  \n",
       "2          70       1  \n",
       "3          70       1  \n",
       "4          70       1  \n",
       "5          70       1  \n",
       "6          70       1  \n",
       "7          70       1  \n",
       "8          70       1  \n",
       "9          70       1  "
      ]
     },
     "execution_count": 6,
     "metadata": {},
     "output_type": "execute_result"
    }
   ],
   "source": [
    "dfcopy[1:10]"
   ]
  },
  {
   "cell_type": "markdown",
   "id": "9467da8f",
   "metadata": {},
   "source": [
    "##### First Model : linear regression"
   ]
  },
  {
   "cell_type": "code",
   "execution_count": 7,
   "id": "c0c22b5d",
   "metadata": {},
   "outputs": [],
   "source": [
    "# Randomly split the data into 80% training data and 20% test data, where your target is mpg.\n",
    "from sklearn.model_selection import train_test_split\n",
    "\n",
    "X = dfcopy.drop(columns=['mpg'])\n",
    "y = dfcopy['mpg']\n",
    "\n",
    "#split the data\n",
    "X_train, X_test, y_train, y_test = train_test_split(X, y, test_size=0.2, random_state=42)"
   ]
  },
  {
   "cell_type": "code",
   "execution_count": 8,
   "id": "07750ba7",
   "metadata": {},
   "outputs": [],
   "source": [
    "#Train an ordinary linear regression on the training data.\n",
    "from sklearn.linear_model import LinearRegression\n",
    "regression = LinearRegression()\n",
    "\n",
    "#fir the regression\n",
    "model = regression.fit(X_train, y_train)\n",
    "#print('target is:',y[0])\n",
    "#print('predicted is', model.predict(X)[0])"
   ]
  },
  {
   "cell_type": "code",
   "execution_count": 10,
   "id": "c6db87c6",
   "metadata": {},
   "outputs": [
    {
     "name": "stdout",
     "output_type": "stream",
     "text": [
      "train dataset R2 value is: 0.8139568275400748\n",
      "train datasetRSME value is: 2.862782956928673\n",
      "train dataset MAE value is: 2.5992622598588095\n"
     ]
    }
   ],
   "source": [
    "#Calculate R2, RMSE, and MAE on training sets\n",
    "train_predicted = model.predict(X_train)\n",
    "\n",
    "import sklearn.metrics as metrics\n",
    "train_r2 = metrics.r2_score(y_train, train_predicted)\n",
    "train_mae = metrics.mean_absolute_error(y_train, train_predicted)\n",
    "train_mse = metrics.mean_squared_error(y_train, train_predicted)\n",
    "train_rmse = np.sqrt(mse)\n",
    "\n",
    "print('train dataset R2 value is:', train_r2)\n",
    "print('train datasetRSME value is:', train_rmse)\n",
    "print('train dataset MAE value is:', train_mae)\n",
    "#print('target is:',y_test[0])\n",
    "#print('predicted is', predicted[0])"
   ]
  },
  {
   "cell_type": "code",
   "execution_count": 11,
   "id": "f52adaba",
   "metadata": {},
   "outputs": [
    {
     "name": "stdout",
     "output_type": "stream",
     "text": [
      "test dataset R2 value is: 0.8475717252829973\n",
      "test datasetRSME value is: 2.862782956928673\n",
      "test datasetMAE value is: 2.253469317401328\n"
     ]
    }
   ],
   "source": [
    "#Calculate R2, RMSE, and MAE on test sets \n",
    "predicted = model.predict(X_test)\n",
    "\n",
    "#using sklearn.metrics module\n",
    "import sklearn.metrics as metrics\n",
    "r2 = metrics.r2_score(y_test, predicted)\n",
    "mae = metrics.mean_absolute_error(y_test, predicted)\n",
    "mse = metrics.mean_squared_error(y_test, predicted)\n",
    "rmse = np.sqrt(mse)\n",
    "\n",
    "print('test dataset R2 value is:', r2)\n",
    "print('test datasetRSME value is:', rmse)\n",
    "print('test datasetMAE value is:', mae)\n",
    "#print('target is:',y_test[0])\n",
    "#print('predicted is', predicted[0])"
   ]
  },
  {
   "cell_type": "markdown",
   "id": "7668bbde",
   "metadata": {},
   "source": [
    "###### R2 value between training set and test set varies by 0.03 (4%), differemce on ESME and MAE are in vene samller range. I want to see model fit well.\n",
    "\n",
    "\n",
    "###### Besides, looks like the linear model is good but not super accurate, the R2 is okay (close to 1). The MAE is around 10% of average mpg, the RMSE is about the same, so it is acceptable.\n",
    "\n",
    "end of linear regression"
   ]
  },
  {
   "cell_type": "markdown",
   "id": "28d7eb26",
   "metadata": {},
   "source": [
    "##### Second Model : Random Forest regression"
   ]
  },
  {
   "cell_type": "code",
   "execution_count": 19,
   "id": "8a373c8d",
   "metadata": {},
   "outputs": [
    {
     "data": {
      "text/html": [
       "<div>\n",
       "<style scoped>\n",
       "    .dataframe tbody tr th:only-of-type {\n",
       "        vertical-align: middle;\n",
       "    }\n",
       "\n",
       "    .dataframe tbody tr th {\n",
       "        vertical-align: top;\n",
       "    }\n",
       "\n",
       "    .dataframe thead th {\n",
       "        text-align: right;\n",
       "    }\n",
       "</style>\n",
       "<table border=\"1\" class=\"dataframe\">\n",
       "  <thead>\n",
       "    <tr style=\"text-align: right;\">\n",
       "      <th></th>\n",
       "      <th>mpg</th>\n",
       "      <th>displacement</th>\n",
       "      <th>weight</th>\n",
       "      <th>acceleration</th>\n",
       "      <th>model year</th>\n",
       "      <th>origin</th>\n",
       "    </tr>\n",
       "  </thead>\n",
       "  <tbody>\n",
       "    <tr>\n",
       "      <th>0</th>\n",
       "      <td>18.0</td>\n",
       "      <td>1.090604</td>\n",
       "      <td>0.630870</td>\n",
       "      <td>-1.295498</td>\n",
       "      <td>-1.627426</td>\n",
       "      <td>-0.715145</td>\n",
       "    </tr>\n",
       "    <tr>\n",
       "      <th>1</th>\n",
       "      <td>15.0</td>\n",
       "      <td>1.503514</td>\n",
       "      <td>0.854333</td>\n",
       "      <td>-1.477038</td>\n",
       "      <td>-1.627426</td>\n",
       "      <td>-0.715145</td>\n",
       "    </tr>\n",
       "    <tr>\n",
       "      <th>2</th>\n",
       "      <td>18.0</td>\n",
       "      <td>1.196232</td>\n",
       "      <td>0.550470</td>\n",
       "      <td>-1.658577</td>\n",
       "      <td>-1.627426</td>\n",
       "      <td>-0.715145</td>\n",
       "    </tr>\n",
       "    <tr>\n",
       "      <th>3</th>\n",
       "      <td>16.0</td>\n",
       "      <td>1.061796</td>\n",
       "      <td>0.546923</td>\n",
       "      <td>-1.295498</td>\n",
       "      <td>-1.627426</td>\n",
       "      <td>-0.715145</td>\n",
       "    </tr>\n",
       "    <tr>\n",
       "      <th>4</th>\n",
       "      <td>17.0</td>\n",
       "      <td>1.042591</td>\n",
       "      <td>0.565841</td>\n",
       "      <td>-1.840117</td>\n",
       "      <td>-1.627426</td>\n",
       "      <td>-0.715145</td>\n",
       "    </tr>\n",
       "  </tbody>\n",
       "</table>\n",
       "</div>"
      ],
      "text/plain": [
       "    mpg  displacement    weight  acceleration  model year    origin\n",
       "0  18.0      1.090604  0.630870     -1.295498   -1.627426 -0.715145\n",
       "1  15.0      1.503514  0.854333     -1.477038   -1.627426 -0.715145\n",
       "2  18.0      1.196232  0.550470     -1.658577   -1.627426 -0.715145\n",
       "3  16.0      1.061796  0.546923     -1.295498   -1.627426 -0.715145\n",
       "4  17.0      1.042591  0.565841     -1.840117   -1.627426 -0.715145"
      ]
     },
     "execution_count": 19,
     "metadata": {},
     "output_type": "execute_result"
    }
   ],
   "source": [
    "# Pick another regression model and repeat the previous two steps\n",
    "\n",
    "# The horsepower, weight, cylinder and displacement are closely related, I will drop horsepower and cylinder and try again\n",
    "# split into training and test data again\n",
    "df_reduced = dfcopy.drop(['horsepower', 'cylinders'], axis=1)\n",
    "#df_reduced\n",
    "#make the features standardized distribution\n",
    "from sklearn.preprocessing import StandardScaler\n",
    "sc = StandardScaler()\n",
    "cols = ['displacement','weight','acceleration', 'model year', 'origin']\n",
    "df_reduced[cols]= sc.fit_transform(df_reduced[cols])\n",
    "df_reduced.head()"
   ]
  },
  {
   "cell_type": "code",
   "execution_count": 20,
   "id": "1bb3b220",
   "metadata": {},
   "outputs": [],
   "source": [
    "X2 = df_reduced.drop(columns=['mpg'])\n",
    "y2 = df_reduced['mpg']\n",
    "\n",
    "#split the data\n",
    "X2_train, X2_test, y2_train, y2_test = train_test_split(X2, y2, test_size=0.2, random_state=42)"
   ]
  },
  {
   "cell_type": "code",
   "execution_count": 21,
   "id": "fa7e996a",
   "metadata": {},
   "outputs": [],
   "source": [
    "# try the Random Forest model\n",
    "from sklearn.ensemble import RandomForestRegressor\n",
    "rf = RandomForestRegressor(n_estimators=300, max_depth=5, random_state=0)\n",
    "rf.fit(X2_train , y2_train)\n",
    "second_pred = rf.predict(X2_test)"
   ]
  },
  {
   "cell_type": "code",
   "execution_count": 25,
   "id": "cc12c6a1",
   "metadata": {},
   "outputs": [
    {
     "name": "stdout",
     "output_type": "stream",
     "text": [
      "Test dataset R2 value is: 0.9401718459263396\n",
      "Test datasetRSME value is: 2.19264152094096\n",
      "Test datasetMAE value is: 1.4452179396648017\n"
     ]
    }
   ],
   "source": [
    "#Calculate training dataset R2, RMSE, and MAE again\n",
    "train_predicted = rf.predict(X2_train)\n",
    "\n",
    "train_r2_new = metrics.r2_score(y2_train, train_predicted)\n",
    "train_mae_new = metrics.mean_absolute_error(y2_train, train_predicted)\n",
    "train_mse_new = metrics.mean_squared_error(y2_train, train_predicted)\n",
    "train_rmse_new = np.sqrt(mse_new)\n",
    "\n",
    "print('Test dataset R2 value is:', train_r2_new)\n",
    "print('Test datasetRSME value is:', train_rmse_new)\n",
    "print('Test datasetMAE value is:', train_mae_new)"
   ]
  },
  {
   "cell_type": "code",
   "execution_count": 23,
   "id": "1e311f12",
   "metadata": {},
   "outputs": [
    {
     "name": "stdout",
     "output_type": "stream",
     "text": [
      "Test dataset R2 value is: 0.9105822051071717\n",
      "Test datasetRSME value is: 2.19264152094096\n",
      "Test datasetMAE value is: 1.616050230404572\n"
     ]
    }
   ],
   "source": [
    "#Calculate test dataset R2, RMSE, and MAE again\n",
    "\n",
    "r2_new = metrics.r2_score(y2_test, second_pred)\n",
    "mae_new = metrics.mean_absolute_error(y2_test, second_pred)\n",
    "mse_new = metrics.mean_squared_error(y2_test, second_pred)\n",
    "rmse_new = np.sqrt(mse_new)\n",
    "\n",
    "print('Test dataset R2 value is:', r2_new)\n",
    "print('Test datasetRSME value is:', rmse_new)\n",
    "print('Test datasetMAE value is:', mae_new)\n",
    "#print('target is:',y2_test[0])\n",
    "#print('predicted is', second_pred[0])"
   ]
  },
  {
   "cell_type": "markdown",
   "id": "c5b997df",
   "metadata": {
    "collapsed": true
   },
   "source": [
    "###### R2 value between training set and test set varies by 0.03 (3%), differemce on ESME and MAE are in even samller range. I want to see model fit well.\n",
    "\n",
    "###### looks like the model performed slightly better than linear regression, the R2/RSME/MAE are improved. \n",
    "\n",
    "End of random forest model prediction"
   ]
  },
  {
   "cell_type": "markdown",
   "id": "14d28d86",
   "metadata": {},
   "source": [
    "##### Model 3: Polynominal model"
   ]
  },
  {
   "cell_type": "code",
   "execution_count": 27,
   "id": "cb8f6315",
   "metadata": {},
   "outputs": [],
   "source": [
    "# Also try the polynominal method\n",
    "\n",
    "#get a copy of df\n",
    "df3 = dfcopy.drop(['horsepower', 'cylinders'], axis=1)\n",
    "\n",
    "#split data\n",
    "X3 = df3.drop(columns=['mpg'])\n",
    "y3 = df3['mpg']\n",
    "\n",
    "from sklearn.model_selection import train_test_split\n",
    "X3_train, X3_test, y3_train, y3_test = train_test_split(X3, y3, test_size=0.2, random_state=10)\n",
    "\n",
    "# standardlize the data, only train data will do fit conversion, leave test data alone\n",
    "from sklearn.preprocessing import StandardScaler\n",
    "scaler = StandardScaler()\n",
    "X3_train_sc =scaler.fit_transform(X3_train)\n",
    "X3_test_sc = scaler.transform(X3_test)\n",
    "\n",
    "from sklearn.linear_model import LinearRegression\n",
    "lin =LinearRegression()\n",
    "\n",
    "# Again only do fit conversion on train data\n",
    "from sklearn.preprocessing import PolynomialFeatures\n",
    "poly = PolynomialFeatures(degree=3, include_bias=False)\n",
    "X3_poly_train = poly.fit_transform(X3_train_sc)\n",
    "X3_test_poly = poly.transform(X3_test_sc)\n",
    "\n",
    "poly.fit(X3_poly_train, y3_train)\n",
    "lin.fit(X3_poly_train, y3_train)\n",
    "\n",
    "y3_pred = lin.predict(X3_test_poly)\n",
    "\n"
   ]
  },
  {
   "cell_type": "code",
   "execution_count": 16,
   "id": "55bb471d",
   "metadata": {},
   "outputs": [
    {
     "name": "stdout",
     "output_type": "stream",
     "text": [
      "R2 value is: 0.8611826746670452\n",
      "RSME value is: 2.9136529158145748\n",
      "MAE value is: 2.1169585037231444\n"
     ]
    }
   ],
   "source": [
    "#Calculate R2, RMSE, and MAE third time\n",
    "import sklearn.metrics as metrics\n",
    "\n",
    "r2_3 = metrics.r2_score(y3_test, y3_pred)\n",
    "mae_3 = metrics.mean_absolute_error(y3_test, y3_pred)\n",
    "mse_3 = metrics.mean_squared_error(y3_test, y3_pred)\n",
    "rmse_3 = np.sqrt(mse_3)\n",
    "\n",
    "print('R2 value is:', r2_3)\n",
    "print('RSME value is:', rmse_3)\n",
    "print('MAE value is:', mae_3)"
   ]
  },
  {
   "cell_type": "markdown",
   "id": "dc1f10d5",
   "metadata": {},
   "source": [
    "###### looks like the poly model performed between pure linear model and Random Forest model, still an use-able model. "
   ]
  },
  {
   "cell_type": "code",
   "execution_count": 31,
   "id": "fd0c13dd",
   "metadata": {},
   "outputs": [
    {
     "name": "stdout",
     "output_type": "stream",
     "text": [
      "R2, MAEand RMSE values on training sets are: 0.9278802103312669 1.527415370341367 2.0942305365739355\n"
     ]
    }
   ],
   "source": [
    "# Check MAE from the training data\n",
    "y_pred_train = lin.predict(X3_poly_train)\n",
    "fit1 = metrics.mean_absolute_error(y3_train, y_pred_train)\n",
    "fit2 = metrics.r2_score(y3_train, y_pred_train)\n",
    "fit3 = np.sqrt(metrics.mean_squared_error(y3_train, y_pred_train))\n",
    "print('R2, MAEand RMSE values on training sets are:', fit2, fit1, fit3)"
   ]
  },
  {
   "cell_type": "markdown",
   "id": "b0e4a0c3",
   "metadata": {},
   "source": [
    "##### this time the R2 and MAE difference is bigger than last 2 model. "
   ]
  },
  {
   "cell_type": "markdown",
   "id": "55be20fe",
   "metadata": {},
   "source": [
    "##### End of exercise"
   ]
  }
 ],
 "metadata": {
  "kernelspec": {
   "display_name": "Python 3 (ipykernel)",
   "language": "python",
   "name": "python3"
  },
  "language_info": {
   "codemirror_mode": {
    "name": "ipython",
    "version": 3
   },
   "file_extension": ".py",
   "mimetype": "text/x-python",
   "name": "python",
   "nbconvert_exporter": "python",
   "pygments_lexer": "ipython3",
   "version": "3.11.4"
  }
 },
 "nbformat": 4,
 "nbformat_minor": 5
}
